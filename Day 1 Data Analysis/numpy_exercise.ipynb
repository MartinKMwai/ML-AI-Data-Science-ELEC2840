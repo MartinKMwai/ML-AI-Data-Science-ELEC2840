{
 "cells": [
  {
   "cell_type": "code",
   "execution_count": 38,
   "metadata": {},
   "outputs": [],
   "source": [
    "import numpy as np"
   ]
  },
  {
   "cell_type": "code",
   "execution_count": 39,
   "metadata": {},
   "outputs": [],
   "source": [
    "# create a 1D array\n",
    "x = np.array([0, 1, 2, 3, 4, 5, 6])"
   ]
  },
  {
   "cell_type": "code",
   "execution_count": 40,
   "metadata": {},
   "outputs": [
    {
     "data": {
      "text/plain": [
       "(array([1, 2, 3, 4, 5, 6], dtype=int32),)"
      ]
     },
     "execution_count": 40,
     "metadata": {},
     "output_type": "execute_result"
    }
   ],
   "source": [
    "# find all non-zero elements in x\n",
    "np.nonzero(x)"
   ]
  },
  {
   "cell_type": "code",
   "execution_count": 41,
   "metadata": {},
   "outputs": [],
   "source": [
    "# create a 5x5 matrix A with random numbers\n",
    "A = np.random.randn(5, 5)\n",
    "\n",
    "# create a 5x5 identity matrix B\n",
    "B = np.eye(5)"
   ]
  },
  {
   "cell_type": "code",
   "execution_count": 42,
   "metadata": {
    "scrolled": true
   },
   "outputs": [
    {
     "data": {
      "text/plain": [
       "array([[ 0.49392803, -2.49728553,  1.1347429 ,  0.83272268,  0.93147073],\n",
       "       [ 0.00256032, -0.08641252, -0.01344065, -1.536838  , -0.87325114],\n",
       "       [ 0.33076533, -0.2105147 , -0.79851281,  0.07347711, -0.97319849],\n",
       "       [ 0.12331407,  0.74497355,  0.10706605,  1.0438312 ,  1.81444876],\n",
       "       [ 0.561243  ,  1.70711453, -0.01602275, -0.31684881, -0.64696873]])"
      ]
     },
     "execution_count": 42,
     "metadata": {},
     "output_type": "execute_result"
    }
   ],
   "source": [
    "A"
   ]
  },
  {
   "cell_type": "code",
   "execution_count": 43,
   "metadata": {},
   "outputs": [
    {
     "data": {
      "text/plain": [
       "array([[1., 0., 0., 0., 0.],\n",
       "       [0., 1., 0., 0., 0.],\n",
       "       [0., 0., 1., 0., 0.],\n",
       "       [0., 0., 0., 1., 0.],\n",
       "       [0., 0., 0., 0., 1.]])"
      ]
     },
     "execution_count": 43,
     "metadata": {},
     "output_type": "execute_result"
    }
   ],
   "source": [
    "B"
   ]
  },
  {
   "cell_type": "code",
   "execution_count": 44,
   "metadata": {},
   "outputs": [
    {
     "data": {
      "text/plain": [
       "array([[ 1.49392803, -2.49728553,  1.1347429 ,  0.83272268,  0.93147073],\n",
       "       [ 0.00256032,  0.91358748, -0.01344065, -1.536838  , -0.87325114],\n",
       "       [ 0.33076533, -0.2105147 ,  0.20148719,  0.07347711, -0.97319849],\n",
       "       [ 0.12331407,  0.74497355,  0.10706605,  2.0438312 ,  1.81444876],\n",
       "       [ 0.561243  ,  1.70711453, -0.01602275, -0.31684881,  0.35303127]])"
      ]
     },
     "execution_count": 44,
     "metadata": {},
     "output_type": "execute_result"
    }
   ],
   "source": [
    "# calculate the following equations\n",
    "# A + B\n",
    "A+B"
   ]
  },
  {
   "cell_type": "code",
   "execution_count": 45,
   "metadata": {},
   "outputs": [
    {
     "data": {
      "text/plain": [
       "array([[-0.50607197, -2.49728553,  1.1347429 ,  0.83272268,  0.93147073],\n",
       "       [ 0.00256032, -1.08641252, -0.01344065, -1.536838  , -0.87325114],\n",
       "       [ 0.33076533, -0.2105147 , -1.79851281,  0.07347711, -0.97319849],\n",
       "       [ 0.12331407,  0.74497355,  0.10706605,  0.0438312 ,  1.81444876],\n",
       "       [ 0.561243  ,  1.70711453, -0.01602275, -0.31684881, -1.64696873]])"
      ]
     },
     "execution_count": 45,
     "metadata": {},
     "output_type": "execute_result"
    }
   ],
   "source": [
    "# A - B\n",
    "A-B"
   ]
  },
  {
   "cell_type": "code",
   "execution_count": 46,
   "metadata": {},
   "outputs": [
    {
     "data": {
      "text/plain": [
       "array([[ 0.49392803, -0.        ,  0.        ,  0.        ,  0.        ],\n",
       "       [ 0.        , -0.08641252, -0.        , -0.        , -0.        ],\n",
       "       [ 0.        , -0.        , -0.79851281,  0.        , -0.        ],\n",
       "       [ 0.        ,  0.        ,  0.        ,  1.0438312 ,  0.        ],\n",
       "       [ 0.        ,  0.        , -0.        , -0.        , -0.64696873]])"
      ]
     },
     "execution_count": 46,
     "metadata": {},
     "output_type": "execute_result"
    }
   ],
   "source": [
    "# A * B (matrix product)\n",
    "A*B"
   ]
  },
  {
   "cell_type": "code",
   "execution_count": 47,
   "metadata": {},
   "outputs": [
    {
     "data": {
      "text/plain": [
       "array([[ 0.49392803,  0.00256032,  0.33076533,  0.12331407,  0.561243  ],\n",
       "       [-2.49728553, -0.08641252, -0.2105147 ,  0.74497355,  1.70711453],\n",
       "       [ 1.1347429 , -0.01344065, -0.79851281,  0.10706605, -0.01602275],\n",
       "       [ 0.83272268, -1.536838  ,  0.07347711,  1.0438312 , -0.31684881],\n",
       "       [ 0.93147073, -0.87325114, -0.97319849,  1.81444876, -0.64696873]])"
      ]
     },
     "execution_count": 47,
     "metadata": {},
     "output_type": "execute_result"
    }
   ],
   "source": [
    "# A' (transpose of A)\n",
    "A.T"
   ]
  },
  {
   "cell_type": "code",
   "execution_count": 48,
   "metadata": {},
   "outputs": [
    {
     "data": {
      "text/plain": [
       "array([ 0.17911576, -0.5014764 , -0.31559671,  0.76672673,  0.25770345])"
      ]
     },
     "execution_count": 48,
     "metadata": {},
     "output_type": "execute_result"
    }
   ],
   "source": [
    "# calculate the mean, sum, max, min value for each column in A\n",
    "#mean\n",
    "np.mean(A, axis=1)"
   ]
  },
  {
   "cell_type": "code",
   "execution_count": 49,
   "metadata": {},
   "outputs": [
    {
     "data": {
      "text/plain": [
       "array([ 0.8955788 , -2.50738199, -1.57798356,  3.83363364,  1.28851724])"
      ]
     },
     "execution_count": 49,
     "metadata": {},
     "output_type": "execute_result"
    }
   ],
   "source": [
    "#sum\n",
    "np.sum(A, axis=1)"
   ]
  },
  {
   "cell_type": "code",
   "execution_count": 50,
   "metadata": {},
   "outputs": [
    {
     "data": {
      "text/plain": [
       "array([1.1347429 , 0.00256032, 0.33076533, 1.81444876, 1.70711453])"
      ]
     },
     "execution_count": 50,
     "metadata": {},
     "output_type": "execute_result"
    }
   ],
   "source": [
    "#max\n",
    "np.max(A, axis=1)"
   ]
  },
  {
   "cell_type": "code",
   "execution_count": 51,
   "metadata": {},
   "outputs": [
    {
     "data": {
      "text/plain": [
       "array([-2.49728553, -1.536838  , -0.97319849,  0.10706605, -0.64696873])"
      ]
     },
     "execution_count": 51,
     "metadata": {},
     "output_type": "execute_result"
    }
   ],
   "source": [
    "#min\n",
    "np.min(A, axis=1)"
   ]
  },
  {
   "cell_type": "code",
   "execution_count": 52,
   "metadata": {},
   "outputs": [],
   "source": [
    "# normalize A with its max value A_max and min value A_min\n",
    "# i.e., for any value x in A,\n",
    "# x = (x - A_min) / (A_max - A_min)\n",
    "A_max, A_min = A.max(), A.min()\n",
    "A = (A - A_min)/(A_max - A_min)"
   ]
  },
  {
   "cell_type": "code",
   "execution_count": 53,
   "metadata": {},
   "outputs": [
    {
     "data": {
      "text/plain": [
       "array([[0.69373791, 0.        , 0.84235906, 0.77231294, 0.79521511],\n",
       "       [0.57977734, 0.5591423 , 0.57606631, 0.22275202, 0.37665456],\n",
       "       [0.65589637, 0.53035987, 0.39398827, 0.59622474, 0.35347425],\n",
       "       [0.60778319, 0.75196171, 0.60401486, 0.82127434, 1.        ],\n",
       "       [0.70934995, 0.97510648, 0.57546746, 0.5056983 , 0.42913516]])"
      ]
     },
     "execution_count": 53,
     "metadata": {},
     "output_type": "execute_result"
    }
   ],
   "source": [
    "A"
   ]
  },
  {
   "cell_type": "code",
   "execution_count": 54,
   "metadata": {},
   "outputs": [
    {
     "data": {
      "text/plain": [
       "array([2., 3.])"
      ]
     },
     "execution_count": 54,
     "metadata": {},
     "output_type": "execute_result"
    }
   ],
   "source": [
    "# advanced exercise\n",
    "# solve the system of equations:\n",
    "# 3 * x0 + x1 = 9\n",
    "# x0 + 2 * x1 = 8\n",
    "\n",
    "# Ax = b \n",
    "A = np.array([[3, 1], [1, 2]])\n",
    "b = np.array([9, 8])\n",
    "x = np.linalg.solve(A, b)\n",
    "x"
   ]
  },
  {
   "cell_type": "code",
   "execution_count": 55,
   "metadata": {},
   "outputs": [
    {
     "data": {
      "text/plain": [
       "array([[3, 1],\n",
       "       [1, 2]])"
      ]
     },
     "execution_count": 55,
     "metadata": {},
     "output_type": "execute_result"
    }
   ],
   "source": [
    "A"
   ]
  },
  {
   "cell_type": "code",
   "execution_count": 56,
   "metadata": {},
   "outputs": [
    {
     "data": {
      "text/plain": [
       "array([9, 8])"
      ]
     },
     "execution_count": 56,
     "metadata": {},
     "output_type": "execute_result"
    }
   ],
   "source": [
    "b"
   ]
  },
  {
   "cell_type": "code",
   "execution_count": 57,
   "metadata": {},
   "outputs": [],
   "source": [
    "# compare x with the product of inverse A and b\n",
    "\n",
    "\n",
    "y=np.linalg.inv(A)*b\n"
   ]
  },
  {
   "cell_type": "code",
   "execution_count": 58,
   "metadata": {},
   "outputs": [
    {
     "data": {
      "text/plain": [
       "array([[ 3.6, -1.6],\n",
       "       [-1.8,  4.8]])"
      ]
     },
     "execution_count": 58,
     "metadata": {},
     "output_type": "execute_result"
    }
   ],
   "source": [
    "y"
   ]
  },
  {
   "cell_type": "code",
   "execution_count": 59,
   "metadata": {},
   "outputs": [
    {
     "data": {
      "text/plain": [
       "False"
      ]
     },
     "execution_count": 59,
     "metadata": {},
     "output_type": "execute_result"
    }
   ],
   "source": [
    "comparison = x == y\n",
    "comparison.all() "
   ]
  }
 ],
 "metadata": {
  "kernelspec": {
   "display_name": "Python 3",
   "language": "python",
   "name": "python3"
  },
  "language_info": {
   "codemirror_mode": {
    "name": "ipython",
    "version": 3
   },
   "file_extension": ".py",
   "mimetype": "text/x-python",
   "name": "python",
   "nbconvert_exporter": "python",
   "pygments_lexer": "ipython3",
   "version": "3.7.3"
  }
 },
 "nbformat": 4,
 "nbformat_minor": 2
}
